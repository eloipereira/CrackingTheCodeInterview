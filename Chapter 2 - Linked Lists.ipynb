{
 "cells": [
  {
   "cell_type": "code",
   "execution_count": 200,
   "metadata": {},
   "outputs": [],
   "source": [
    "class node:\n",
    "    def __init__(self, data):\n",
    "        self.data = data\n",
    "        self.next = None\n",
    "        \n",
    "    def __str__(self):\n",
    "        return str(self.data)\n",
    "\n",
    "\n",
    "class linkedList:\n",
    "    def __init__(self):\n",
    "        self.head = None\n",
    "    \n",
    "    def __str__(self):\n",
    "        if self.head == None:\n",
    "            return (\"[]\")\n",
    "        else:\n",
    "            out = \"[\" + str(self.head)\n",
    "            current = self.head\n",
    "            while (not current.next == None):\n",
    "                current = current.next\n",
    "                out += \",\"+ str(current)\n",
    "            return out + ']'\n",
    "    \n",
    "    def appendToHead(self,data):\n",
    "        n = node(data)\n",
    "        n.next = self.head\n",
    "        self.head = n\n",
    "    \n",
    "    def appendToTail(self,data):\n",
    "        if (self.head == None):\n",
    "            self.head = node(data)\n",
    "        else:\n",
    "            current = self.head\n",
    "            while (not current.next == None):\n",
    "                current = current.next\n",
    "            current.next = node(data)\n",
    "    \n",
    "    def deleteNode(self,data):\n",
    "        prev = None\n",
    "        curr = self.head    \n",
    "        while curr:\n",
    "            if curr.data == data:\n",
    "                if prev: \n",
    "                    prev.next = curr.next\n",
    "                else:\n",
    "                    self.head = curr.next\n",
    "                return True\n",
    "            else:\n",
    "                prev = curr\n",
    "                curr = curr.next\n",
    "        return False\n",
    "    \n",
    "    def concatenate(self,l):\n",
    "        curr = self.head\n",
    "        if not curr:\n",
    "            curr = l.head\n",
    "        else:\n",
    "            while curr.next:\n",
    "                curr = curr.next\n",
    "            curr.next = l.head\n",
    "            \n",
    "    \n",
    "    # 2.1. Remove Dups\n",
    "    def removeDups(self):\n",
    "        s = set()\n",
    "        prev = None\n",
    "        curr = self.head\n",
    "        while curr:\n",
    "            if not curr.data in s:\n",
    "                s.add(curr.data)\n",
    "                prev = curr\n",
    "                curr = curr.next\n",
    "            else:\n",
    "                prev.next = curr.next\n",
    "                curr = curr.next\n",
    "                \n",
    "    # 2.2. Return Kth to last element\n",
    "    def kthToLast(self,k):\n",
    "        p0 = self.head\n",
    "        p1 = self.head.next\n",
    "        i = 0\n",
    "        while p1:\n",
    "            if i < k:\n",
    "                i += 1\n",
    "            else:\n",
    "                p0 = p0.next\n",
    "            p1 = p1.next\n",
    "        if i == k:\n",
    "            return p0.data\n",
    "        else:\n",
    "            return None\n",
    "    \n",
    "    # 2.4. Partition\n",
    "    def partition(self,v):\n",
    "        temp = linkedList()\n",
    "        temp.appendToHead(v)\n",
    "        piv = temp.head\n",
    "        curr = self.head\n",
    "        while curr:\n",
    "            if curr.data <= v:\n",
    "                temp.appendToHead(curr.data)\n",
    "            else:\n",
    "                temp.appendToTail(curr.data)\n",
    "            curr = curr.next\n",
    "        temp.deleteNode(v)\n",
    "        self.head = temp.head"
   ]
  },
  {
   "cell_type": "markdown",
   "metadata": {},
   "source": [
    "#### Test linked list"
   ]
  },
  {
   "cell_type": "code",
   "execution_count": 201,
   "metadata": {},
   "outputs": [
    {
     "name": "stdout",
     "output_type": "stream",
     "text": [
      "[1,2,3,4]\n",
      "[0,1,2,3,4]\n",
      "[1,2,3,4]\n",
      "[1,2,4]\n",
      "[1,2]\n",
      "[1,2,3,4]\n",
      "[1,2,3,4,8,7,6,5]\n"
     ]
    }
   ],
   "source": [
    "l = linkedList()\n",
    "l.appendToTail(1)\n",
    "l.appendToTail(2)\n",
    "l.appendToTail(3)\n",
    "l.appendToTail(4)\n",
    "print(l)\n",
    "l.appendToHead(0)\n",
    "print(l)\n",
    "l.deleteNode(0)\n",
    "print(l)\n",
    "l.deleteNode(3)\n",
    "print(l)\n",
    "l.deleteNode(4)\n",
    "print(l)\n",
    "l.appendToTail(3)\n",
    "l.appendToTail(4)\n",
    "print(l)\n",
    "l1 = linkedList()\n",
    "l1.appendToHead(5)\n",
    "l1.appendToHead(6)\n",
    "l1.appendToHead(7)\n",
    "l1.appendToHead(8)\n",
    "l.concatenate(l1)\n",
    "print(l)"
   ]
  },
  {
   "cell_type": "markdown",
   "metadata": {},
   "source": [
    "### 2.1. Remove Dups"
   ]
  },
  {
   "cell_type": "code",
   "execution_count": 202,
   "metadata": {},
   "outputs": [
    {
     "name": "stdout",
     "output_type": "stream",
     "text": [
      "[1,2,3,4]\n",
      "[4,2,1,2,3,4]\n",
      "[4,2,1,3]\n"
     ]
    }
   ],
   "source": [
    "l = linkedList()\n",
    "l.appendToTail(1)\n",
    "l.appendToTail(2)\n",
    "l.appendToTail(3)\n",
    "l.appendToTail(4)\n",
    "print(l)\n",
    "l.appendToHead(2)\n",
    "l.appendToHead(4)\n",
    "print(l)\n",
    "l.removeDups()\n",
    "print(l)"
   ]
  },
  {
   "cell_type": "markdown",
   "metadata": {},
   "source": [
    "### 2.2. Return Kth to last element"
   ]
  },
  {
   "cell_type": "code",
   "execution_count": 203,
   "metadata": {},
   "outputs": [
    {
     "name": "stdout",
     "output_type": "stream",
     "text": [
      "[1,2,3,4]\n"
     ]
    },
    {
     "data": {
      "text/plain": [
       "2"
      ]
     },
     "execution_count": 203,
     "metadata": {},
     "output_type": "execute_result"
    }
   ],
   "source": [
    "l = linkedList()\n",
    "l.appendToTail(1)\n",
    "l.appendToTail(2)\n",
    "l.appendToTail(3)\n",
    "l.appendToTail(4)\n",
    "print(l)\n",
    "l.kthToLast(2)"
   ]
  },
  {
   "cell_type": "code",
   "execution_count": 204,
   "metadata": {},
   "outputs": [
    {
     "data": {
      "text/plain": [
       "3"
      ]
     },
     "execution_count": 204,
     "metadata": {},
     "output_type": "execute_result"
    }
   ],
   "source": [
    "l.kthToLast(1)"
   ]
  },
  {
   "cell_type": "code",
   "execution_count": 205,
   "metadata": {},
   "outputs": [
    {
     "data": {
      "text/plain": [
       "4"
      ]
     },
     "execution_count": 205,
     "metadata": {},
     "output_type": "execute_result"
    }
   ],
   "source": [
    "l.kthToLast(0)"
   ]
  },
  {
   "cell_type": "markdown",
   "metadata": {},
   "source": [
    "### 2.4. Delete middle node"
   ]
  },
  {
   "cell_type": "code",
   "execution_count": 209,
   "metadata": {},
   "outputs": [
    {
     "name": "stdout",
     "output_type": "stream",
     "text": [
      "[3,2,1,4,5,0]\n",
      "[0,1,2,3,4,5]\n"
     ]
    }
   ],
   "source": [
    "l = linkedList()\n",
    "l.appendToTail(3)\n",
    "l.appendToTail(2)\n",
    "l.appendToTail(1)\n",
    "l.appendToTail(4)\n",
    "l.appendToTail(5)\n",
    "l.appendToTail(0)\n",
    "print(l)\n",
    "l.partition(4)\n",
    "print(l)"
   ]
  },
  {
   "cell_type": "code",
   "execution_count": null,
   "metadata": {
    "collapsed": true
   },
   "outputs": [],
   "source": []
  }
 ],
 "metadata": {
  "kernelspec": {
   "display_name": "Python 3",
   "language": "python",
   "name": "python3"
  },
  "language_info": {
   "codemirror_mode": {
    "name": "ipython",
    "version": 3
   },
   "file_extension": ".py",
   "mimetype": "text/x-python",
   "name": "python",
   "nbconvert_exporter": "python",
   "pygments_lexer": "ipython3",
   "version": "3.6.3"
  }
 },
 "nbformat": 4,
 "nbformat_minor": 2
}
