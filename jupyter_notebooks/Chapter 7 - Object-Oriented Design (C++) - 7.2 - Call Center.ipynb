{
 "cells": [
  {
   "cell_type": "markdown",
   "metadata": {},
   "source": [
    "# Chapter 7 - Object-Oriented Design"
   ]
  },
  {
   "cell_type": "markdown",
   "metadata": {},
   "source": [
    "### 7.2 - Call Center"
   ]
  },
  {
   "cell_type": "code",
   "execution_count": 1,
   "metadata": {},
   "outputs": [],
   "source": [
    "#include <iostream>\n",
    "#include <deque>"
   ]
  },
  {
   "cell_type": "code",
   "execution_count": 2,
   "metadata": {},
   "outputs": [],
   "source": [
    "using namespace std;"
   ]
  },
  {
   "cell_type": "code",
   "execution_count": 3,
   "metadata": {},
   "outputs": [],
   "source": [
    "enum class Rank {Respondent, Manager, Director}"
   ]
  },
  {
   "cell_type": "code",
   "execution_count": 4,
   "metadata": {},
   "outputs": [],
   "source": [
    "class Employee{\n",
    "    Rank rank;\n",
    "    bool free;\n",
    "    string name;\n",
    "    public:\n",
    "        bool isFree(){\n",
    "            return free;\n",
    "        }\n",
    "        Rank getRank(){\n",
    "            return rank;\n",
    "        }\n",
    "        string getName(){\n",
    "            return name;\n",
    "        }\n",
    "        void setFree(){\n",
    "            free = true;\n",
    "        }\n",
    "        void setBusy(){\n",
    "            free = false;\n",
    "        }\n",
    "    protected:\n",
    "        void setRank(Rank r){\n",
    "            rank = r;\n",
    "        }\n",
    "        void setName(string n){\n",
    "            name = n;\n",
    "        }\n",
    "}"
   ]
  },
  {
   "cell_type": "code",
   "execution_count": 5,
   "metadata": {},
   "outputs": [],
   "source": [
    "class Respondent: public Employee{\n",
    "    public:\n",
    "        Respondent(string n){\n",
    "            setName(n);\n",
    "            setRank(Rank::Respondent);\n",
    "            setFree();\n",
    "        }\n",
    "        void print(){\n",
    "            cout << \"Respondent \" << getName() << endl;\n",
    "        }\n",
    "}"
   ]
  },
  {
   "cell_type": "code",
   "execution_count": 6,
   "metadata": {},
   "outputs": [],
   "source": [
    "class Manager: public Employee{\n",
    "    public:\n",
    "        Manager(string n){\n",
    "            setName(n);\n",
    "            setRank(Rank::Manager);\n",
    "            setFree();\n",
    "        }\n",
    "        void print(){\n",
    "            cout << \"Manager \" << getName() << endl;\n",
    "        }\n",
    "}"
   ]
  },
  {
   "cell_type": "code",
   "execution_count": 7,
   "metadata": {},
   "outputs": [],
   "source": [
    "class Director: public Employee{\n",
    "    public:\n",
    "        Director(string n){\n",
    "            setName(n);\n",
    "            setRank(Rank::Director);\n",
    "            setFree();\n",
    "        }\n",
    "        void print(){\n",
    "            cout << \"Director \" << getName() << endl;\n",
    "        }\n",
    "}"
   ]
  },
  {
   "cell_type": "code",
   "execution_count": 8,
   "metadata": {},
   "outputs": [],
   "source": [
    "class CallCenter{\n",
    "    deque<Respondent> respondents;\n",
    "    deque<Manager> managers;\n",
    "    deque<Director> directors;\n",
    "    public:\n",
    "        CallCenter(vector<Respondent> rs, vector<Manager> ms, vector<Director> ds){\n",
    "            for (vector<Respondent>::iterator it = rs.begin(); it != rs.end(); it++){\n",
    "                respondents.push_back(*it);\n",
    "            }\n",
    "            for (vector<Manager>::iterator it = ms.begin(); it != ms.end(); it++){\n",
    "                managers.push_back(*it);\n",
    "            }\n",
    "            for (vector<Director>::iterator it = ds.begin(); it != ds.end(); it++){\n",
    "                directors.push_back(*it);\n",
    "            }\n",
    "        }\n",
    "        void pushRespondent(Respondent r){\n",
    "            respondents.push_back(r);\n",
    "        }\n",
    "        \n",
    "        void print(){\n",
    "            for (deque<Respondent>::iterator it = respondents.begin(); it != respondents.end(); it++){\n",
    "                it->print();\n",
    "            }\n",
    "            for (deque<Manager>::iterator it = managers.begin(); it != managers.end(); it++){\n",
    "                it->print();\n",
    "            }\n",
    "            for (deque<Director>::iterator it = directors.begin(); it != directors.end(); it++){\n",
    "                it->print();\n",
    "            }\n",
    "        }\n",
    "}\n"
   ]
  },
  {
   "cell_type": "code",
   "execution_count": 9,
   "metadata": {},
   "outputs": [],
   "source": [
    "CallCenter c({Respondent(\"Eloi\")},{Manager(\"Teixeira\")},{Director(\"Pereira\")})"
   ]
  },
  {
   "cell_type": "code",
   "execution_count": 10,
   "metadata": {},
   "outputs": [
    {
     "name": "stdout",
     "output_type": "stream",
     "text": [
      "Respondent Eloi\n",
      "Manager Teixeira\n",
      "Director Pereira\n"
     ]
    }
   ],
   "source": [
    "c.print()"
   ]
  },
  {
   "cell_type": "code",
   "execution_count": null,
   "metadata": {},
   "outputs": [],
   "source": []
  }
 ],
 "metadata": {
  "kernelspec": {
   "display_name": "C++17",
   "language": "C++17",
   "name": "xeus-cling-cpp17"
  },
  "language_info": {
   "codemirror_mode": "text/x-c++src",
   "file_extension": ".cpp",
   "mimetype": "text/x-c++src",
   "name": "c++",
   "version": "-std=c++17"
  }
 },
 "nbformat": 4,
 "nbformat_minor": 2
}
