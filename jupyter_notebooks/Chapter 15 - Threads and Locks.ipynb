{
 "cells": [
  {
   "cell_type": "markdown",
   "metadata": {},
   "source": [
    "# Chapter 15 - Threads and Locks"
   ]
  },
  {
   "cell_type": "markdown",
   "metadata": {},
   "source": [
    "## 15.3. Dining Philosofers"
   ]
  },
  {
   "cell_type": "markdown",
   "metadata": {},
   "source": [
    "Dining Philosophers: In the famous dining philosophers problem, a bunch of philosophers are\n",
    "sitting around a circular table with one chopstick between each of them. A philosopher needs\n",
    "both chopsticks to eat. and always picks up the left chopstick before the right one. A deadlock\n",
    "could potentially occur if all the philosophers reached for the left chopstick at the same time. Using\n",
    "threads and locks, implement a simulation of the dining philosophers problem that prevents dead-\n",
    "locks."
   ]
  },
  {
   "cell_type": "code",
   "execution_count": 1,
   "metadata": {},
   "outputs": [],
   "source": [
    "import threading\n",
    "import time"
   ]
  },
  {
   "cell_type": "code",
   "execution_count": 2,
   "metadata": {},
   "outputs": [],
   "source": [
    "class Philosofer(threading.Thread):\n",
    "    def __init__(self, name, order, max_bites = 10, deamon=True):\n",
    "        threading.Thread.__init__(self)\n",
    "        self.deamon = deamon\n",
    "        self.name = name\n",
    "        self.left_chopstick = False\n",
    "        self.right_chopstick = False\n",
    "        self.bites = 0\n",
    "        self.max_bites = max_bites\n",
    "        self.order = order\n",
    "    \n",
    "    def run(self):\n",
    "        print(\"Hello, I'm {}, a hungry philosofer!\".format(self.name))\n",
    "        while (self.bites < self.max_bites):\n",
    "            time.sleep(0.5)\n",
    "            with chopsticks_lock:\n",
    "                if (not self.left_chopstick):\n",
    "                    # take left chopstick\n",
    "                    if take_left_chopstick(self.order):\n",
    "                        self.left_chopstick = True\n",
    "                        print(\"{} took left chopstick.\".format(self.name))\n",
    "                    else:\n",
    "                        print(\"{} didn't take right chopstick.\".format(self.name))\n",
    "                        \n",
    "                if(not self.right_chopstick):\n",
    "                    if take_right_chopstick(self.order):\n",
    "                        self.right_chopstick = True\n",
    "                        print(\"{} took right chopstick.\".format(self.name))\n",
    "                    else:\n",
    "                        print(\"{} didn't take right chopstick.\".format(self.name))\n",
    "                        \n",
    "                if (self.left_chopstick and self.right_chopstick):        \n",
    "                    self.bites += 1\n",
    "                    print(\"{} took a bite.\".format(self.name))\n",
    "                    # release left chopstick \n",
    "                    release_left_chopstick(self.order)\n",
    "                    self.left_chopstick = False\n",
    "                    print(\"{} released left chopstick.\".format(self.name))\n",
    "                    # release right chopstick\n",
    "                    release_right_chopstick(self.order)\n",
    "                    self.right_chopstick = False\n",
    "                    print(\"{} released right chopstick.\".format(self.name))\n",
    "                \n",
    "        print(\"{} is full.\".format(self.name))\n",
    "                "
   ]
  },
  {
   "cell_type": "code",
   "execution_count": 3,
   "metadata": {},
   "outputs": [],
   "source": [
    "number_philosofers = 5"
   ]
  },
  {
   "cell_type": "code",
   "execution_count": 4,
   "metadata": {},
   "outputs": [],
   "source": [
    "chopsticks = [True for i in range(number_philosofers)]"
   ]
  },
  {
   "cell_type": "code",
   "execution_count": 5,
   "metadata": {},
   "outputs": [],
   "source": [
    "chopsticks_lock = threading.Lock()"
   ]
  },
  {
   "cell_type": "code",
   "execution_count": 6,
   "metadata": {},
   "outputs": [],
   "source": [
    "def take_left_chopstick(i):\n",
    "    if chopsticks[i]:\n",
    "        chopsticks[i] = False\n",
    "        return True\n",
    "    else:\n",
    "        return False\n",
    "    \n",
    "def release_left_chopstick(i):\n",
    "    chopsticks[i] = True\n",
    "    return True\n",
    "\n",
    "def take_right_chopstick(i):\n",
    "    if chopsticks[(i-1)%number_philosofers]:\n",
    "        chopsticks[(i-1)%number_philosofers] = False\n",
    "        return True\n",
    "    else:\n",
    "        return False\n",
    "    \n",
    "def release_right_chopstick(i):\n",
    "    chopsticks[(i-1)%number_philosofers] = True\n",
    "    return True"
   ]
  },
  {
   "cell_type": "code",
   "execution_count": 7,
   "metadata": {},
   "outputs": [],
   "source": [
    "phils = [Philosofer(\"Philosofer {}\".format(i),i) for i in range(number_philosofers)]"
   ]
  },
  {
   "cell_type": "code",
   "execution_count": 8,
   "metadata": {},
   "outputs": [
    {
     "name": "stdout",
     "output_type": "stream",
     "text": [
      "Hello, I'm Philosofer 0, a hungry philosofer!\n",
      "Hello, I'm Philosofer 1, a hungry philosofer!\n",
      "Hello, I'm Philosofer 2, a hungry philosofer!\n",
      "Hello, I'm Philosofer 3, a hungry philosofer!Hello, I'm Philosofer 4, a hungry philosofer!\n",
      "\n"
     ]
    }
   ],
   "source": [
    "for p in phils:\n",
    "    p.start()"
   ]
  },
  {
   "cell_type": "code",
   "execution_count": 9,
   "metadata": {},
   "outputs": [
    {
     "name": "stdout",
     "output_type": "stream",
     "text": [
      "Philosofer 0 took left chopstick.\n",
      "Philosofer 0 took right chopstick.\n",
      "Philosofer 0 took a bite.\n",
      "Philosofer 0 released left chopstick.\n",
      "Philosofer 0 released right chopstick.\n",
      "Philosofer 1 took left chopstick.\n",
      "Philosofer 1 took right chopstick.\n",
      "Philosofer 1 took a bite.\n",
      "Philosofer 1 released left chopstick.\n",
      "Philosofer 1 released right chopstick.\n",
      "Philosofer 2 took left chopstick.\n",
      "Philosofer 2 took right chopstick.\n",
      "Philosofer 2 took a bite.\n",
      "Philosofer 2 released left chopstick.\n",
      "Philosofer 2 released right chopstick.\n",
      "Philosofer 4 took left chopstick.\n",
      "Philosofer 4 took right chopstick.\n",
      "Philosofer 4 took a bite.\n",
      "Philosofer 4 released left chopstick.\n",
      "Philosofer 4 released right chopstick.\n",
      "Philosofer 3 took left chopstick.\n",
      "Philosofer 3 took right chopstick.\n",
      "Philosofer 3 took a bite.\n",
      "Philosofer 3 released left chopstick.\n",
      "Philosofer 3 released right chopstick.\n",
      "Philosofer 0 took left chopstick.\n",
      "Philosofer 0 took right chopstick.\n",
      "Philosofer 0 took a bite.\n",
      "Philosofer 0 released left chopstick.\n",
      "Philosofer 0 released right chopstick.\n",
      "Philosofer 1 took left chopstick.\n",
      "Philosofer 1 took right chopstick.\n",
      "Philosofer 1 took a bite.\n",
      "Philosofer 1 released left chopstick.\n",
      "Philosofer 1 released right chopstick.\n",
      "Philosofer 2 took left chopstick.\n",
      "Philosofer 2 took right chopstick.\n",
      "Philosofer 2 took a bite.\n",
      "Philosofer 2 released left chopstick.\n",
      "Philosofer 2 released right chopstick.\n",
      "Philosofer 4 took left chopstick.\n",
      "Philosofer 4 took right chopstick.\n",
      "Philosofer 4 took a bite.\n",
      "Philosofer 4 released left chopstick.\n",
      "Philosofer 4 released right chopstick.\n",
      "Philosofer 3 took left chopstick.\n",
      "Philosofer 3 took right chopstick.\n",
      "Philosofer 3 took a bite.\n",
      "Philosofer 3 released left chopstick.\n",
      "Philosofer 3 released right chopstick.\n",
      "Philosofer 0 took left chopstick.\n",
      "Philosofer 0 took right chopstick.\n",
      "Philosofer 0 took a bite.\n",
      "Philosofer 0 released left chopstick.\n",
      "Philosofer 0 released right chopstick.\n",
      "Philosofer 1 took left chopstick.\n",
      "Philosofer 1 took right chopstick.\n",
      "Philosofer 1 took a bite.\n",
      "Philosofer 1 released left chopstick.\n",
      "Philosofer 1 released right chopstick.\n",
      "Philosofer 2 took left chopstick.\n",
      "Philosofer 2 took right chopstick.\n",
      "Philosofer 2 took a bite.\n",
      "Philosofer 2 released left chopstick.\n",
      "Philosofer 2 released right chopstick.\n",
      "Philosofer 4 took left chopstick.\n",
      "Philosofer 4 took right chopstick.\n",
      "Philosofer 4 took a bite.\n",
      "Philosofer 4 released left chopstick.\n",
      "Philosofer 4 released right chopstick.\n",
      "Philosofer 3 took left chopstick.\n",
      "Philosofer 3 took right chopstick.\n",
      "Philosofer 3 took a bite.\n",
      "Philosofer 3 released left chopstick.\n",
      "Philosofer 3 released right chopstick.\n",
      "Philosofer 0 took left chopstick.\n",
      "Philosofer 0 took right chopstick.\n",
      "Philosofer 0 took a bite.\n",
      "Philosofer 0 released left chopstick.\n",
      "Philosofer 0 released right chopstick.\n",
      "Philosofer 1 took left chopstick.\n",
      "Philosofer 1 took right chopstick.\n",
      "Philosofer 1 took a bite.\n",
      "Philosofer 1 released left chopstick.\n",
      "Philosofer 1 released right chopstick.\n",
      "Philosofer 2 took left chopstick.\n",
      "Philosofer 2 took right chopstick.\n",
      "Philosofer 2 took a bite.\n",
      "Philosofer 2 released left chopstick.\n",
      "Philosofer 2 released right chopstick.\n",
      "Philosofer 4 took left chopstick.\n",
      "Philosofer 4 took right chopstick.\n",
      "Philosofer 4 took a bite.\n",
      "Philosofer 4 released left chopstick.\n",
      "Philosofer 4 released right chopstick.\n",
      "Philosofer 3 took left chopstick.\n",
      "Philosofer 3 took right chopstick.\n",
      "Philosofer 3 took a bite.\n",
      "Philosofer 3 released left chopstick.\n",
      "Philosofer 3 released right chopstick.\n",
      "Philosofer 0 took left chopstick.\n",
      "Philosofer 0 took right chopstick.\n",
      "Philosofer 0 took a bite.\n",
      "Philosofer 0 released left chopstick.\n",
      "Philosofer 0 released right chopstick.\n",
      "Philosofer 1 took left chopstick.\n",
      "Philosofer 1 took right chopstick.\n",
      "Philosofer 1 took a bite.\n",
      "Philosofer 1 released left chopstick.\n",
      "Philosofer 1 released right chopstick.\n",
      "Philosofer 2 took left chopstick.\n",
      "Philosofer 2 took right chopstick.\n",
      "Philosofer 2 took a bite.\n",
      "Philosofer 2 released left chopstick.\n",
      "Philosofer 2 released right chopstick.\n",
      "Philosofer 4 took left chopstick.\n",
      "Philosofer 4 took right chopstick.\n",
      "Philosofer 4 took a bite.\n",
      "Philosofer 4 released left chopstick.\n",
      "Philosofer 4 released right chopstick.\n",
      "Philosofer 3 took left chopstick.\n",
      "Philosofer 3 took right chopstick.\n",
      "Philosofer 3 took a bite.\n",
      "Philosofer 3 released left chopstick.\n",
      "Philosofer 3 released right chopstick.\n",
      "Philosofer 0 took left chopstick.\n",
      "Philosofer 0 took right chopstick.\n",
      "Philosofer 0 took a bite.\n",
      "Philosofer 0 released left chopstick.\n",
      "Philosofer 0 released right chopstick.\n",
      "Philosofer 1 took left chopstick.\n",
      "Philosofer 1 took right chopstick.\n",
      "Philosofer 1 took a bite.\n",
      "Philosofer 1 released left chopstick.\n",
      "Philosofer 1 released right chopstick.\n",
      "Philosofer 2 took left chopstick.\n",
      "Philosofer 2 took right chopstick.\n",
      "Philosofer 2 took a bite.\n",
      "Philosofer 2 released left chopstick.\n",
      "Philosofer 2 released right chopstick.\n",
      "Philosofer 4 took left chopstick.\n",
      "Philosofer 4 took right chopstick.\n",
      "Philosofer 4 took a bite.\n",
      "Philosofer 4 released left chopstick.\n",
      "Philosofer 4 released right chopstick.\n",
      "Philosofer 3 took left chopstick.\n",
      "Philosofer 3 took right chopstick.\n",
      "Philosofer 3 took a bite.\n",
      "Philosofer 3 released left chopstick.\n",
      "Philosofer 3 released right chopstick.\n",
      "Philosofer 0 took left chopstick.\n",
      "Philosofer 0 took right chopstick.\n",
      "Philosofer 0 took a bite.\n",
      "Philosofer 0 released left chopstick.\n",
      "Philosofer 0 released right chopstick.\n",
      "Philosofer 1 took left chopstick.\n",
      "Philosofer 1 took right chopstick.\n",
      "Philosofer 1 took a bite.\n",
      "Philosofer 1 released left chopstick.\n",
      "Philosofer 1 released right chopstick.\n",
      "Philosofer 2 took left chopstick.\n",
      "Philosofer 2 took right chopstick.\n",
      "Philosofer 2 took a bite.\n",
      "Philosofer 2 released left chopstick.\n",
      "Philosofer 2 released right chopstick.\n",
      "Philosofer 4 took left chopstick.\n",
      "Philosofer 4 took right chopstick.\n",
      "Philosofer 4 took a bite.\n",
      "Philosofer 4 released left chopstick.\n",
      "Philosofer 4 released right chopstick.\n",
      "Philosofer 3 took left chopstick.\n",
      "Philosofer 3 took right chopstick.\n",
      "Philosofer 3 took a bite.\n",
      "Philosofer 3 released left chopstick.\n",
      "Philosofer 3 released right chopstick.\n",
      "Philosofer 0 took left chopstick.\n",
      "Philosofer 0 took right chopstick.\n",
      "Philosofer 0 took a bite.\n",
      "Philosofer 0 released left chopstick.\n",
      "Philosofer 0 released right chopstick.\n",
      "Philosofer 1 took left chopstick.\n",
      "Philosofer 1 took right chopstick.\n",
      "Philosofer 1 took a bite.\n",
      "Philosofer 1 released left chopstick.\n",
      "Philosofer 1 released right chopstick.\n",
      "Philosofer 2 took left chopstick.\n",
      "Philosofer 2 took right chopstick.\n",
      "Philosofer 2 took a bite.\n",
      "Philosofer 2 released left chopstick.\n",
      "Philosofer 2 released right chopstick.\n",
      "Philosofer 4 took left chopstick.\n",
      "Philosofer 4 took right chopstick.\n",
      "Philosofer 4 took a bite.\n",
      "Philosofer 4 released left chopstick.\n",
      "Philosofer 4 released right chopstick.\n",
      "Philosofer 3 took left chopstick.\n",
      "Philosofer 3 took right chopstick.\n",
      "Philosofer 3 took a bite.\n",
      "Philosofer 3 released left chopstick.\n",
      "Philosofer 3 released right chopstick.\n",
      "Philosofer 0 took left chopstick.\n",
      "Philosofer 0 took right chopstick.\n",
      "Philosofer 0 took a bite.\n",
      "Philosofer 0 released left chopstick.\n",
      "Philosofer 0 released right chopstick.\n",
      "Philosofer 1 took left chopstick.\n",
      "Philosofer 1 took right chopstick.\n",
      "Philosofer 1 took a bite.\n",
      "Philosofer 1 released left chopstick.\n",
      "Philosofer 1 released right chopstick.\n",
      "Philosofer 2 took left chopstick.\n",
      "Philosofer 2 took right chopstick.\n",
      "Philosofer 2 took a bite.\n",
      "Philosofer 2 released left chopstick.\n",
      "Philosofer 2 released right chopstick.\n",
      "Philosofer 4 took left chopstick.\n",
      "Philosofer 4 took right chopstick.\n",
      "Philosofer 4 took a bite.\n",
      "Philosofer 4 released left chopstick.\n",
      "Philosofer 4 released right chopstick.\n",
      "Philosofer 3 took left chopstick.\n",
      "Philosofer 3 took right chopstick.\n",
      "Philosofer 3 took a bite.\n",
      "Philosofer 3 released left chopstick.\n",
      "Philosofer 3 released right chopstick.\n",
      "Philosofer 0 took left chopstick.\n",
      "Philosofer 0 took right chopstick.\n",
      "Philosofer 0 took a bite.\n",
      "Philosofer 0 released left chopstick.\n",
      "Philosofer 0 released right chopstick.\n",
      "Philosofer 0 is full.\n",
      "Philosofer 1 took left chopstick.\n",
      "Philosofer 1 took right chopstick.\n",
      "Philosofer 1 took a bite.\n",
      "Philosofer 1 released left chopstick.\n",
      "Philosofer 1 released right chopstick.\n",
      "Philosofer 1 is full.\n",
      "Philosofer 2 took left chopstick.\n",
      "Philosofer 2 took right chopstick.\n",
      "Philosofer 2 took a bite.\n",
      "Philosofer 2 released left chopstick.\n",
      "Philosofer 2 released right chopstick.\n",
      "Philosofer 2 is full.\n",
      "Philosofer 4 took left chopstick.\n",
      "Philosofer 4 took right chopstick.\n",
      "Philosofer 4 took a bite.\n",
      "Philosofer 4 released left chopstick.\n",
      "Philosofer 4 released right chopstick.\n",
      "Philosofer 4 is full.\n",
      "Philosofer 3 took left chopstick.\n",
      "Philosofer 3 took right chopstick.\n",
      "Philosofer 3 took a bite.\n",
      "Philosofer 3 released left chopstick.\n",
      "Philosofer 3 released right chopstick.\n",
      "Philosofer 3 is full.\n"
     ]
    }
   ],
   "source": [
    "for p in phils:\n",
    "    p.join()"
   ]
  },
  {
   "cell_type": "code",
   "execution_count": 10,
   "metadata": {},
   "outputs": [
    {
     "name": "stdout",
     "output_type": "stream",
     "text": [
      "Dinner is finished!\n"
     ]
    }
   ],
   "source": [
    "print(\"Dinner is finished!\")"
   ]
  },
  {
   "cell_type": "markdown",
   "metadata": {},
   "source": [
    "## 15.7 FizzBuzz"
   ]
  },
  {
   "cell_type": "markdown",
   "metadata": {},
   "source": [
    "FizzBuzz: In the classic problem FizzBuzz, you are told to print the numbers from 1 to n. However,\n",
    "when the number is divisible by 3, print \"Fizz': When it is divisible by 5, print \"Buzz': When it is divisible by 3 and 5, print \"FizzBuzz': In this problem, you are asked to do this in a multithreaded way.\n",
    "Implement a multithreaded version of FizzBuzz with four threads. One thread checks for divisibility\n",
    "of 3 and prints \"Fizz': Another thread is responsible for divisibility of 5 and prints \"Buzz': A third thread\n",
    "is responsible for divisibility of 3 and 5 and prints \"FizzBuzz\". A fourth thread does the numbers."
   ]
  },
  {
   "cell_type": "code",
   "execution_count": 18,
   "metadata": {},
   "outputs": [],
   "source": [
    "import threading\n",
    "import time"
   ]
  },
  {
   "cell_type": "code",
   "execution_count": 19,
   "metadata": {},
   "outputs": [],
   "source": [
    "n = 15"
   ]
  },
  {
   "cell_type": "code",
   "execution_count": 20,
   "metadata": {},
   "outputs": [],
   "source": [
    "global number\n",
    "number = 0"
   ]
  },
  {
   "cell_type": "code",
   "execution_count": 21,
   "metadata": {},
   "outputs": [],
   "source": [
    "global turn\n",
    "turn = 0"
   ]
  },
  {
   "cell_type": "code",
   "execution_count": 22,
   "metadata": {},
   "outputs": [],
   "source": [
    "lock = threading.Lock()"
   ]
  },
  {
   "cell_type": "code",
   "execution_count": 23,
   "metadata": {},
   "outputs": [],
   "source": [
    "class fizz(threading.Thread):\n",
    "    def run(self):\n",
    "        global turn\n",
    "        global number\n",
    "        while (number < n):\n",
    "            time.sleep(0.5)\n",
    "            with lock:\n",
    "                if turn == 1: \n",
    "                    turn = 2\n",
    "                    if number % 3 == 0:\n",
    "                        print(\"Fizz!\")"
   ]
  },
  {
   "cell_type": "code",
   "execution_count": 24,
   "metadata": {},
   "outputs": [],
   "source": [
    "class buzz(threading.Thread):\n",
    "    def run(self):\n",
    "        global turn\n",
    "        global number\n",
    "        while (number < n):\n",
    "            time.sleep(0.5)\n",
    "            with lock:\n",
    "                if turn == 2: \n",
    "                    turn = 3\n",
    "                    if number % 5 == 0:\n",
    "                        print(\"Buzz!\")"
   ]
  },
  {
   "cell_type": "code",
   "execution_count": 25,
   "metadata": {},
   "outputs": [],
   "source": [
    "class fizz_buzz(threading.Thread):\n",
    "    def run(self):\n",
    "        global turn\n",
    "        global number\n",
    "        while (number < n):\n",
    "            time.sleep(0.5)\n",
    "            with lock:\n",
    "                if turn == 3: \n",
    "                    turn = 0\n",
    "                    if (number % 3) == 0 and (number % 5) == 0:\n",
    "                        print(\"FizzBuzz!\")"
   ]
  },
  {
   "cell_type": "code",
   "execution_count": 26,
   "metadata": {},
   "outputs": [],
   "source": [
    "class gen_numbers(threading.Thread):\n",
    "    def run(self):\n",
    "        global turn\n",
    "        global number\n",
    "        while (number < n):\n",
    "            time.sleep(0.5)\n",
    "            with lock:\n",
    "                if turn == 0:\n",
    "                    turn = 1\n",
    "                    number += 1\n",
    "                    print(number)"
   ]
  },
  {
   "cell_type": "code",
   "execution_count": 27,
   "metadata": {},
   "outputs": [],
   "source": [
    "threads = []"
   ]
  },
  {
   "cell_type": "code",
   "execution_count": 28,
   "metadata": {},
   "outputs": [],
   "source": [
    "threads.append(gen_numbers())"
   ]
  },
  {
   "cell_type": "code",
   "execution_count": 29,
   "metadata": {},
   "outputs": [],
   "source": [
    "threads.append(fizz())"
   ]
  },
  {
   "cell_type": "code",
   "execution_count": 30,
   "metadata": {},
   "outputs": [],
   "source": [
    "threads.append(buzz())"
   ]
  },
  {
   "cell_type": "code",
   "execution_count": 31,
   "metadata": {},
   "outputs": [],
   "source": [
    "threads.append(fizz_buzz())"
   ]
  },
  {
   "cell_type": "code",
   "execution_count": 32,
   "metadata": {},
   "outputs": [],
   "source": [
    "for t in threads:\n",
    "    t.start()"
   ]
  },
  {
   "cell_type": "code",
   "execution_count": 33,
   "metadata": {},
   "outputs": [
    {
     "name": "stdout",
     "output_type": "stream",
     "text": [
      "1\n",
      "2\n",
      "3\n",
      "Fizz!\n",
      "4\n",
      "5\n",
      "Buzz!\n",
      "6\n",
      "Fizz!\n",
      "7\n",
      "8\n",
      "9\n",
      "Fizz!\n",
      "10\n",
      "Buzz!\n",
      "11\n",
      "12\n",
      "Fizz!\n",
      "13\n",
      "14\n",
      "15\n",
      "Fizz!\n",
      "Buzz!\n",
      "FizzBuzz!\n"
     ]
    }
   ],
   "source": [
    "for t in threads:\n",
    "    t.join()"
   ]
  },
  {
   "cell_type": "code",
   "execution_count": 34,
   "metadata": {},
   "outputs": [
    {
     "name": "stdout",
     "output_type": "stream",
     "text": [
      "FizzBuzz finished\n"
     ]
    }
   ],
   "source": [
    "print(\"FizzBuzz finished\")"
   ]
  },
  {
   "cell_type": "code",
   "execution_count": null,
   "metadata": {},
   "outputs": [],
   "source": []
  }
 ],
 "metadata": {
  "kernelspec": {
   "display_name": "Python 3",
   "language": "python",
   "name": "python3"
  },
  "language_info": {
   "codemirror_mode": {
    "name": "ipython",
    "version": 3
   },
   "file_extension": ".py",
   "mimetype": "text/x-python",
   "name": "python",
   "nbconvert_exporter": "python",
   "pygments_lexer": "ipython3",
   "version": "3.7.3"
  }
 },
 "nbformat": 4,
 "nbformat_minor": 2
}
