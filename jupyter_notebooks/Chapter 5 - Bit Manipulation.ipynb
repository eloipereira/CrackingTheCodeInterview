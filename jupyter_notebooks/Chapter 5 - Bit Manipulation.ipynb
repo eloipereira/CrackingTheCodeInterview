{
 "cells": [
  {
   "cell_type": "markdown",
   "metadata": {},
   "source": [
    "# Chapter 5 - Bit Manipulation"
   ]
  },
  {
   "cell_type": "markdown",
   "metadata": {},
   "source": [
    "## 5.1. Insertion"
   ]
  },
  {
   "cell_type": "markdown",
   "metadata": {},
   "source": [
    "Insertion: You are given two 32-bit numbers, N and M, and two bit positions, i and\n",
    "j. Write a method to insert Minto N such that M starts at bit j and ends at bit i. You\n",
    "can assume that the bits j through i have enough space to fit all of M. That is, if\n",
    "M = 10011, you can assume that there are at least 5 bits between j and i. You would not, for\n",
    "example, have j = 3 and i = 2, because M could not fully fit between bit 3 and bit 2."
   ]
  },
  {
   "cell_type": "code",
   "execution_count": 1,
   "metadata": {},
   "outputs": [],
   "source": [
    "def bit_mask(i,j):                                                                                                                                                                                                   \n",
    "    # 111...1110000111...1111                                                                                                                                                                                        \n",
    "    #         j    i                                                                                                                                                                                                 \n",
    "    ones = 0xffffffff                                                                                                                                                                                                \n",
    "    right_ones = ones >> 32-i                                                                                                                                                                                        \n",
    "    left_ones = ones << j + 1                                                                                                                                                                                        \n",
    "    mask = (left_ones | right_ones) & ones                                                                                                                                                                           \n",
    "    return mask                                                                                                                                                                                                      \n",
    "                                                                                                                                                                                                                     \n",
    "                                                                                                                                                                                                                     \n",
    "def insertion(n, m, i, j):                                                                                                                                                                                           \n",
    "    return (n & bit_mask(i,j)) | (m << i) "
   ]
  },
  {
   "cell_type": "code",
   "execution_count": 2,
   "metadata": {},
   "outputs": [
    {
     "name": "stdout",
     "output_type": "stream",
     "text": [
      "0b10001001100\n"
     ]
    }
   ],
   "source": [
    "n = int('10000000000',2)\n",
    "m = int('10011',2)\n",
    "print(bin(insertion(n,m,2,6)))"
   ]
  },
  {
   "cell_type": "markdown",
   "metadata": {},
   "source": [
    "## 5.2. Binary to String"
   ]
  },
  {
   "cell_type": "markdown",
   "metadata": {},
   "source": [
    "Binary to String: Given a real number between 0 and 1 (e.g., 0.72) that is passed in as a double, print\n",
    "the binary representation. If the number cannot be represented accurately in binary with at most 32\n",
    "characters, print \"ERROR\""
   ]
  },
  {
   "cell_type": "code",
   "execution_count": 3,
   "metadata": {},
   "outputs": [],
   "source": [
    "def bin2str(frac):\n",
    "    if frac > 1 or frac < 0:\n",
    "        return None\n",
    "    bit_str = '0.'\n",
    "    i = 0\n",
    "    while i < 32 and frac > 0:\n",
    "        frac = frac * 2 # left shift\n",
    "        if (frac) >= 1:\n",
    "            bit_str += '1'\n",
    "            frac = frac - 1 # remove the leading 1\n",
    "        else:\n",
    "            bit_str += '0'\n",
    "        i += 1\n",
    "    \n",
    "    if frac > 0:\n",
    "        return \"ERROR\"\n",
    "    \n",
    "    return bit_str"
   ]
  },
  {
   "cell_type": "code",
   "execution_count": 4,
   "metadata": {},
   "outputs": [
    {
     "data": {
      "text/plain": [
       "'0.11'"
      ]
     },
     "execution_count": 4,
     "metadata": {},
     "output_type": "execute_result"
    }
   ],
   "source": [
    "bin2str(0.75)"
   ]
  },
  {
   "cell_type": "code",
   "execution_count": 5,
   "metadata": {},
   "outputs": [
    {
     "data": {
      "text/plain": [
       "'0.101'"
      ]
     },
     "execution_count": 5,
     "metadata": {},
     "output_type": "execute_result"
    }
   ],
   "source": [
    "bin2str(0.625)"
   ]
  },
  {
   "cell_type": "code",
   "execution_count": 6,
   "metadata": {},
   "outputs": [
    {
     "data": {
      "text/plain": [
       "'ERROR'"
      ]
     },
     "execution_count": 6,
     "metadata": {},
     "output_type": "execute_result"
    }
   ],
   "source": [
    "bin2str(0.3)"
   ]
  },
  {
   "cell_type": "markdown",
   "metadata": {},
   "source": [
    "## 5.3. Flip Bit to Win"
   ]
  },
  {
   "cell_type": "markdown",
   "metadata": {},
   "source": [
    "You have an integer and you can flip exactly one bit from a 0 to a 1. Write code to\n",
    "find the length of the longest sequence of ls you could create."
   ]
  },
  {
   "cell_type": "code",
   "execution_count": 7,
   "metadata": {},
   "outputs": [],
   "source": [
    "def flip_bit_to_win(n):\n",
    "    right_size = 0\n",
    "    left_size = 0\n",
    "    flip_bit = -1\n",
    "    max_sum = 0\n",
    "    i = 0\n",
    "    first_zero_found = False\n",
    "    last_bit_was_zero = False\n",
    "    while n > 0:\n",
    "        if n & 1 == 0:\n",
    "            # first bit is a zero\n",
    "            first_zero_found = True\n",
    "            flip_bit = i\n",
    "            if left_size > 0 or last_bit_was_zero:\n",
    "                if max_sum < right_size + left_size:\n",
    "                    max_sum = right_size + left_size\n",
    "                right_size = left_size\n",
    "                left_size = 0\n",
    "            last_bit_was_zero = True\n",
    "        else:\n",
    "            if first_zero_found:\n",
    "                left_size += 1\n",
    "            else:\n",
    "                right_size += 1\n",
    "            last_bit_was_zero = False\n",
    "        n = n >> 1\n",
    "        i += 1\n",
    "    if not first_zero_found:\n",
    "        return 0\n",
    "    return max_sum + 1"
   ]
  },
  {
   "cell_type": "code",
   "execution_count": 8,
   "metadata": {},
   "outputs": [
    {
     "data": {
      "text/plain": [
       "8"
      ]
     },
     "execution_count": 8,
     "metadata": {},
     "output_type": "execute_result"
    }
   ],
   "source": [
    "flip_bit_to_win(1775)"
   ]
  },
  {
   "cell_type": "code",
   "execution_count": 9,
   "metadata": {},
   "outputs": [
    {
     "data": {
      "text/plain": [
       "4"
      ]
     },
     "execution_count": 9,
     "metadata": {},
     "output_type": "execute_result"
    }
   ],
   "source": [
    "flip_bit_to_win(0b101100111)"
   ]
  },
  {
   "cell_type": "code",
   "execution_count": 10,
   "metadata": {},
   "outputs": [
    {
     "data": {
      "text/plain": [
       "7"
      ]
     },
     "execution_count": 10,
     "metadata": {},
     "output_type": "execute_result"
    }
   ],
   "source": [
    "flip_bit_to_win(0b000111001111101)"
   ]
  },
  {
   "cell_type": "code",
   "execution_count": 11,
   "metadata": {},
   "outputs": [
    {
     "data": {
      "text/plain": [
       "0"
      ]
     },
     "execution_count": 11,
     "metadata": {},
     "output_type": "execute_result"
    }
   ],
   "source": [
    "flip_bit_to_win(0b111111)"
   ]
  },
  {
   "cell_type": "markdown",
   "metadata": {},
   "source": [
    "## 5.4. Next number"
   ]
  },
  {
   "cell_type": "markdown",
   "metadata": {},
   "source": [
    "Next Number: Given a positive integer, print the next smallest and the next largest number that\n",
    "have the same number of 1 bits in their binary representation."
   ]
  },
  {
   "cell_type": "code",
   "execution_count": 12,
   "metadata": {},
   "outputs": [],
   "source": [
    "def swap_bits(n,i,j):\n",
    "    bit_i = n & (1 << i) != 0\n",
    "    bit_j = n & (1 << j) != 0\n",
    "    if (bit_i and not bit_j) or (not bit_i and bit_j):\n",
    "        n = n ^ (1 << i)\n",
    "        n = n ^ (1 << j)\n",
    "        return n\n",
    "    else:\n",
    "        return n"
   ]
  },
  {
   "cell_type": "code",
   "execution_count": 13,
   "metadata": {},
   "outputs": [
    {
     "data": {
      "text/plain": [
       "'0b110'"
      ]
     },
     "execution_count": 13,
     "metadata": {},
     "output_type": "execute_result"
    }
   ],
   "source": [
    "bin(swap_bits(0b101,0,1))"
   ]
  },
  {
   "cell_type": "code",
   "execution_count": 18,
   "metadata": {},
   "outputs": [],
   "source": [
    "def next_number(n):\n",
    "    next_smallest = n\n",
    "    next_largest = n\n",
    "    first_zero_found = False\n",
    "    first_one_found = False \n",
    "    last_zero_found = False\n",
    "    last_one_found = False\n",
    "    first_zero, first_one, last_zero, last_one = -1, -1, -1, -1\n",
    "    i = 0\n",
    "    \n",
    "    if n == 0:\n",
    "        return 0,0\n",
    "    \n",
    "    while not (first_zero_found and first_one_found and last_zero_found and last_one_found) or n > 0:\n",
    "        \n",
    "        if (n & 1 == 0):\n",
    "            if (not first_zero_found) and first_one_found:\n",
    "                first_zero_found = True\n",
    "                first_zero = i\n",
    "        else:\n",
    "            if not first_one_found:\n",
    "                first_one_found = True\n",
    "                first_one = i\n",
    "            if i > last_one:\n",
    "                last_one_found = True\n",
    "                last_one = i\n",
    "        \n",
    "        n = n >> 1\n",
    "        i += 1\n",
    "        if (n == 0):\n",
    "            last_zero_found = True\n",
    "            last_zero = i\n",
    "        \n",
    "    next_smallest = swap_bits(next_smallest,first_zero,first_one)  \n",
    "    next_largest = swap_bits(next_largest,last_zero,last_one) \n",
    "    \n",
    "    return next_smallest, next_largest"
   ]
  },
  {
   "cell_type": "code",
   "execution_count": 19,
   "metadata": {},
   "outputs": [],
   "source": [
    "s,l = next_number(0b1001)\n",
    "bin(s), bin(l)"
   ]
  },
  {
   "cell_type": "code",
   "execution_count": 20,
   "metadata": {},
   "outputs": [
    {
     "data": {
      "text/plain": [
       "('0b1010', '0b10001')"
      ]
     },
     "execution_count": 20,
     "metadata": {},
     "output_type": "execute_result"
    }
   ],
   "source": [
    "s,l = next_number(0b00001)\n",
    "bin(s), bin(l)"
   ]
  },
  {
   "cell_type": "code",
   "execution_count": 27,
   "metadata": {},
   "outputs": [
    {
     "data": {
      "text/plain": [
       "('0b1100000', '0b10010000')"
      ]
     },
     "execution_count": 27,
     "metadata": {},
     "output_type": "execute_result"
    }
   ],
   "source": [
    "s,l = next_number(0b1010000)\n",
    "bin(s), bin(l)"
   ]
  },
  {
   "cell_type": "markdown",
   "metadata": {},
   "source": [
    "## 5.5. Debugger"
   ]
  },
  {
   "cell_type": "markdown",
   "metadata": {},
   "source": [
    "Explain what the following code does: ((n & n-1) == 0). \n",
    "\n",
    "Answer: n is power of two"
   ]
  },
  {
   "cell_type": "code",
   "execution_count": 49,
   "metadata": {},
   "outputs": [
    {
     "name": "stdout",
     "output_type": "stream",
     "text": [
      "True\n",
      "True\n",
      "True\n",
      "True\n"
     ]
    }
   ],
   "source": [
    "n = 2 ** 0\n",
    "print((n & (n-1))==0)\n",
    "\n",
    "n = 2 ** 1\n",
    "print((n & (n-1))==0)\n",
    "\n",
    "n = 2 ** 2\n",
    "print((n & (n-1))==0)\n",
    "\n",
    "n = 2 ** 3\n",
    "print((n & (n-1))==0)"
   ]
  },
  {
   "cell_type": "markdown",
   "metadata": {},
   "source": [
    "## 5.6. Conversion"
   ]
  },
  {
   "cell_type": "markdown",
   "metadata": {},
   "source": [
    "Write a function to determine the number of bits you would need to flip to convert integer A to integer B."
   ]
  },
  {
   "cell_type": "code",
   "execution_count": 50,
   "metadata": {},
   "outputs": [],
   "source": [
    "def diff_bits(a,b):\n",
    "    c = a ^ b\n",
    "    i = 0\n",
    "    while c > 0:\n",
    "        if c & 1 == 1:\n",
    "            i += 1\n",
    "        c = c >> 1\n",
    "    return i"
   ]
  },
  {
   "cell_type": "code",
   "execution_count": 55,
   "metadata": {},
   "outputs": [
    {
     "name": "stdout",
     "output_type": "stream",
     "text": [
      "True\n",
      "True\n",
      "True\n",
      "True\n"
     ]
    }
   ],
   "source": [
    "print(diff_bits(1,1) == 0)\n",
    "print(diff_bits(0,1) == 1)\n",
    "print(diff_bits(0b100010001,0b100110001) == 1)\n",
    "print(diff_bits(0b100010001,0b0) == 3)"
   ]
  },
  {
   "cell_type": "markdown",
   "metadata": {},
   "source": [
    "## 5.7. Pairwise Swap"
   ]
  },
  {
   "cell_type": "markdown",
   "metadata": {},
   "source": [
    "Pairwise Swap: Write a program to swap odd and even bits in an integer with as few instructions as\n",
    "possible (e.g., bit 0 and bit 1 are swapped, bit 2 and bit 3 are swapped, and so on)."
   ]
  },
  {
   "cell_type": "code",
   "execution_count": 88,
   "metadata": {},
   "outputs": [],
   "source": [
    "def pairwise_swap(n):\n",
    "    # assuming 32 bits  \n",
    "    mask = 0\n",
    "    for i in range(32//2-1):\n",
    "        mask = (mask | 1 << i*2)\n",
    "    even = mask\n",
    "    odd = mask << 1\n",
    "    return ((n & even) << 1) | ((n & odd) >> 1)"
   ]
  },
  {
   "cell_type": "code",
   "execution_count": 90,
   "metadata": {},
   "outputs": [
    {
     "name": "stdout",
     "output_type": "stream",
     "text": [
      "0b110\n",
      "0b1010\n",
      "0b10110\n",
      "0b100001\n"
     ]
    }
   ],
   "source": [
    "print(bin(pairwise_swap(0b1001)))\n",
    "print(bin(pairwise_swap(0b101)))\n",
    "print(bin(pairwise_swap(0b101001)))\n",
    "print(bin(pairwise_swap(0b10010)))"
   ]
  },
  {
   "cell_type": "markdown",
   "metadata": {},
   "source": [
    "## 5.8. Draw Line"
   ]
  },
  {
   "cell_type": "markdown",
   "metadata": {},
   "source": [
    "Draw Line: A monochrome screen is stored as a single array of bytes, allowing eight consecutive\n",
    "pixels to be stored in one byte. The screen has width w, where w is divisible by 8 (that is, no byte will\n",
    "be split across rows). The height of the screen, of course, can be derived from the length of the array\n",
    "and the width. Implement a function that draws a horizontal line from (x1, y) to (x2, y) .\n",
    "\n",
    "The method signature should look something like:\n",
    "\n",
    "drawLine(byte[] screen, int width, int x1, int x2, int y)"
   ]
  },
  {
   "cell_type": "code",
   "execution_count": 434,
   "metadata": {},
   "outputs": [],
   "source": [
    "def draw_line(screen,w,x1,x2,y):\n",
    "    import math\n",
    "    bytes_per_line = w // 8\n",
    "    \n",
    "    start_byte = (y)*bytes_per_line + x1//8\n",
    "    print(start_byte)\n",
    "    \n",
    "    end_byte = start_byte + math.ceil((x2-x1)/8)\n",
    "    print(end_byte)\n",
    "    \n",
    "    for b in range(start_byte,end_byte+1):\n",
    "        b_l = b - y*bytes_per_line\n",
    "        if b_l*8 >= x1 and (b_l+1)*8-1 <= x2:\n",
    "            screen[b] = 0b11111111\n",
    "        elif b_l*8 <= x1 and (b_l+1)*8-1 <= x2:\n",
    "            screen[b] = 0b11111111 >> (x1 - b_l*8 +1) \n",
    "        elif b_l*8 >= x1 and (b_l+1)*8-1 >= x2:\n",
    "            screen[b] = (0b11111111 << ((b_l+1)*8 - x2 -1)) & 0b11111111 \n",
    "        elif b_l*8 <= x1 and (b_l+1)*8-1 >= x2:\n",
    "            print(\"here\")\n",
    "            temp = 0b11111111 >> (8 - (x2 - x1))\n",
    "            screen[b] = (temp << ((b_l+1)*8 - x2 -1)) & 0b11111111\n",
    "    return screen"
   ]
  },
  {
   "cell_type": "code",
   "execution_count": 439,
   "metadata": {},
   "outputs": [],
   "source": [
    "w = 4*8\n",
    "x1 = 2 + 8\n",
    "x2 = x1 + 5\n",
    "y = 1\n",
    "screen = [0b0, 0b0, 0b0, 0b0,\n",
    "          0b0, 0b0, 0b0, 0b0,\n",
    "          0b0, 0b0, 0b0, 0b0]"
   ]
  },
  {
   "cell_type": "code",
   "execution_count": 440,
   "metadata": {},
   "outputs": [
    {
     "name": "stdout",
     "output_type": "stream",
     "text": [
      "5\n",
      "6\n",
      "['0b0', '0b0', '0b0', '0b0', '0b0', '0b11111', '0b10000000', '0b0', '0b0', '0b0', '0b0', '0b0']\n"
     ]
    }
   ],
   "source": [
    "line = draw_line(screen,w,x1,x2,y)\n",
    "print(list(map(bin,line)))"
   ]
  },
  {
   "cell_type": "code",
   "execution_count": 371,
   "metadata": {},
   "outputs": [
    {
     "data": {
      "text/plain": [
       "32"
      ]
     },
     "execution_count": 371,
     "metadata": {},
     "output_type": "execute_result"
    }
   ],
   "source": [
    "4*8"
   ]
  },
  {
   "cell_type": "code",
   "execution_count": 114,
   "metadata": {},
   "outputs": [
    {
     "data": {
      "text/plain": [
       "64"
      ]
     },
     "execution_count": 114,
     "metadata": {},
     "output_type": "execute_result"
    }
   ],
   "source": [
    "8*8"
   ]
  },
  {
   "cell_type": "code",
   "execution_count": null,
   "metadata": {},
   "outputs": [],
   "source": []
  }
 ],
 "metadata": {
  "kernelspec": {
   "display_name": "Python 3",
   "language": "python",
   "name": "python3"
  },
  "language_info": {
   "codemirror_mode": {
    "name": "ipython",
    "version": 3
   },
   "file_extension": ".py",
   "mimetype": "text/x-python",
   "name": "python",
   "nbconvert_exporter": "python",
   "pygments_lexer": "ipython3",
   "version": "3.7.3"
  }
 },
 "nbformat": 4,
 "nbformat_minor": 2
}
