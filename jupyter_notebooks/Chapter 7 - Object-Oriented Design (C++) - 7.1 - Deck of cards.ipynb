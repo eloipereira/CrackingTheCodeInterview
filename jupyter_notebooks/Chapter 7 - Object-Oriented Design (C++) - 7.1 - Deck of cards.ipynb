{
 "cells": [
  {
   "cell_type": "markdown",
   "metadata": {},
   "source": [
    "# Chapter 7 - Object-Oriented Design"
   ]
  },
  {
   "cell_type": "markdown",
   "metadata": {},
   "source": [
    "Notes: For the OOP exercises I choose C++ since the language is better suited for this paradigm than python. I'm using Xeus, which provides an interpreter for jupyter notebooks."
   ]
  },
  {
   "cell_type": "markdown",
   "metadata": {},
   "source": [
    "### 7.1 - Deck of cards"
   ]
  },
  {
   "cell_type": "code",
   "execution_count": 1,
   "metadata": {},
   "outputs": [],
   "source": [
    "#include <iostream>\n",
    "#include <vector>"
   ]
  },
  {
   "cell_type": "code",
   "execution_count": 2,
   "metadata": {},
   "outputs": [],
   "source": [
    "using namespace std;"
   ]
  },
  {
   "cell_type": "code",
   "execution_count": 3,
   "metadata": {},
   "outputs": [],
   "source": [
    "enum Suit {Spades, Hearts, Clubs, Diamonds};"
   ]
  },
  {
   "cell_type": "code",
   "execution_count": 4,
   "metadata": {},
   "outputs": [],
   "source": [
    "enum Rank {Ace=1, Two, Three, Four, Five, Six, Seven, Eight, Nine, Ten, Jack, Queen, King};"
   ]
  },
  {
   "cell_type": "code",
   "execution_count": 5,
   "metadata": {},
   "outputs": [],
   "source": [
    "enum Colour {Black, Red};"
   ]
  },
  {
   "cell_type": "code",
   "execution_count": 6,
   "metadata": {},
   "outputs": [],
   "source": [
    "class Card{\n",
    "        Suit suit;\n",
    "        Rank rank;\n",
    "        Colour colour;\n",
    "    public:\n",
    "        Card(Rank r, Suit s){\n",
    "            rank = r;\n",
    "            suit = s;\n",
    "            if (s == Spades || s == Clubs){\n",
    "                colour = Black;\n",
    "            } else {\n",
    "                colour = Red;\n",
    "            }\n",
    "        };\n",
    "        Suit getSuit() {\n",
    "            return suit;\n",
    "        };\n",
    "        Rank getRank(){\n",
    "            return rank;\n",
    "        };\n",
    "        Colour getColour(){\n",
    "            return colour;\n",
    "        };\n",
    "        void print(){\n",
    "            switch(rank){\n",
    "                case Ace: cout << \"Ace\"; break;\n",
    "                case Two: cout << \"Two\"; break;\n",
    "                case Three: cout << \"Three\"; break;\n",
    "                case Four: cout << \"Four\"; break;\n",
    "                case Five: cout << \"Five\"; break;\n",
    "                case Six: cout << \"Six\"; break;\n",
    "                case Seven: cout << \"Seven\"; break;\n",
    "                case Eight: cout << \"Eight\"; break;\n",
    "                case Nine: cout << \"Nine\"; break;\n",
    "                case Ten: cout << \"Ten\"; break;\n",
    "                case Jack: cout << \"Jack\"; break;\n",
    "                case Queen: cout << \"Queen\"; break;\n",
    "                case King: cout << \"King\"; break;\n",
    "            };\n",
    "            \n",
    "            cout << \" of \";\n",
    "            \n",
    "            switch(suit){\n",
    "                case Spades: cout << \"Spades\" << endl; break;\n",
    "                case Hearts: cout << \"Hearts\" << endl; break;\n",
    "                case Clubs: cout << \"Clubs\" << endl; break;\n",
    "                case Diamonds: cout << \"Diamonds\" << endl; break;\n",
    "            }\n",
    "        };\n",
    "    private:\n",
    "        \n",
    "};"
   ]
  },
  {
   "cell_type": "code",
   "execution_count": 7,
   "metadata": {},
   "outputs": [],
   "source": [
    "Card c(Ace,Spades)"
   ]
  },
  {
   "cell_type": "code",
   "execution_count": 8,
   "metadata": {},
   "outputs": [
    {
     "name": "stdout",
     "output_type": "stream",
     "text": [
      "1"
     ]
    }
   ],
   "source": [
    "cout << c.getRank();"
   ]
  },
  {
   "cell_type": "code",
   "execution_count": 9,
   "metadata": {},
   "outputs": [
    {
     "name": "stdout",
     "output_type": "stream",
     "text": [
      "Ace of Spades\n"
     ]
    }
   ],
   "source": [
    "c.print();"
   ]
  },
  {
   "cell_type": "code",
   "execution_count": 10,
   "metadata": {},
   "outputs": [
    {
     "name": "stdout",
     "output_type": "stream",
     "text": [
      "0"
     ]
    }
   ],
   "source": [
    "cout << c.getColour();"
   ]
  },
  {
   "cell_type": "code",
   "execution_count": 11,
   "metadata": {},
   "outputs": [],
   "source": [
    "class Deck{\n",
    "    vector<Card> cards;\n",
    "    public:\n",
    "        Deck(){\n",
    "            for (int suitInt = Spades; suitInt != Diamonds + 1; suitInt++){\n",
    "                for (int rankInt = Ace; rankInt != King + 1; rankInt++){\n",
    "                    cards.push_back(Card(static_cast<Rank>(rankInt),static_cast<Suit>(suitInt)));\n",
    "                }\n",
    "            }\n",
    "        }\n",
    "        void print(){\n",
    "            for (vector<Card>::iterator it = cards.begin(); it != cards.end(); it++){\n",
    "                it->print();\n",
    "            }\n",
    "        }\n",
    "}"
   ]
  },
  {
   "cell_type": "code",
   "execution_count": 12,
   "metadata": {},
   "outputs": [],
   "source": [
    "Deck d;"
   ]
  },
  {
   "cell_type": "code",
   "execution_count": 13,
   "metadata": {},
   "outputs": [
    {
     "name": "stdout",
     "output_type": "stream",
     "text": [
      "Ace of Spades\n",
      "Two of Spades\n",
      "Three of Spades\n",
      "Four of Spades\n",
      "Five of Spades\n",
      "Six of Spades\n",
      "Seven of Spades\n",
      "Eight of Spades\n",
      "Nine of Spades\n",
      "Ten of Spades\n",
      "Jack of Spades\n",
      "Queen of Spades\n",
      "King of Spades\n",
      "Ace of Hearts\n",
      "Two of Hearts\n",
      "Three of Hearts\n",
      "Four of Hearts\n",
      "Five of Hearts\n",
      "Six of Hearts\n",
      "Seven of Hearts\n",
      "Eight of Hearts\n",
      "Nine of Hearts\n",
      "Ten of Hearts\n",
      "Jack of Hearts\n",
      "Queen of Hearts\n",
      "King of Hearts\n",
      "Ace of Clubs\n",
      "Two of Clubs\n",
      "Three of Clubs\n",
      "Four of Clubs\n",
      "Five of Clubs\n",
      "Six of Clubs\n",
      "Seven of Clubs\n",
      "Eight of Clubs\n",
      "Nine of Clubs\n",
      "Ten of Clubs\n",
      "Jack of Clubs\n",
      "Queen of Clubs\n",
      "King of Clubs\n",
      "Ace of Diamonds\n",
      "Two of Diamonds\n",
      "Three of Diamonds\n",
      "Four of Diamonds\n",
      "Five of Diamonds\n",
      "Six of Diamonds\n",
      "Seven of Diamonds\n",
      "Eight of Diamonds\n",
      "Nine of Diamonds\n",
      "Ten of Diamonds\n",
      "Jack of Diamonds\n",
      "Queen of Diamonds\n",
      "King of Diamonds\n"
     ]
    }
   ],
   "source": [
    "d.print()"
   ]
  },
  {
   "cell_type": "code",
   "execution_count": null,
   "metadata": {},
   "outputs": [],
   "source": []
  }
 ],
 "metadata": {
  "kernelspec": {
   "display_name": "C++17",
   "language": "C++17",
   "name": "xeus-cling-cpp17"
  },
  "language_info": {
   "codemirror_mode": "text/x-c++src",
   "file_extension": ".cpp",
   "mimetype": "text/x-c++src",
   "name": "c++",
   "version": "-std=c++17"
  }
 },
 "nbformat": 4,
 "nbformat_minor": 2
}
